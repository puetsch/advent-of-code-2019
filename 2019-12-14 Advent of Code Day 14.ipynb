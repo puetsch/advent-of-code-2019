{
 "cells": [
  {
   "cell_type": "code",
   "execution_count": 12,
   "metadata": {},
   "outputs": [],
   "source": [
    "with open('/Users/felixpuetsch/Downloads/input14.txt', 'rt') as f:\n",
    "    reaction = f.read()"
   ]
  },
  {
   "cell_type": "code",
   "execution_count": 13,
   "metadata": {},
   "outputs": [],
   "source": [
    "def process_ingredient(ing):\n",
    "    q, e = ing.split(' ')\n",
    "    q = int(q)\n",
    "    return (q,e)\n",
    "\n",
    "recipes = {}\n",
    "\n",
    "def process_line(line):\n",
    "    lhs, rhs = line.split(' => ')\n",
    "    lhs = lhs.split(', ')\n",
    "    lhs = list(map(process_ingredient, lhs))\n",
    "    rhs = process_ingredient(rhs)\n",
    "    recipes[rhs[1]] = (rhs[0], lhs)\n",
    "    \n",
    "for l in reaction.splitlines(): process_line(l)"
   ]
  },
  {
   "cell_type": "code",
   "execution_count": 14,
   "metadata": {},
   "outputs": [
    {
     "name": "stdout",
     "output_type": "stream",
     "text": [
      "1967319\n"
     ]
    }
   ],
   "source": [
    "from collections import defaultdict\n",
    "\n",
    "def create(target):\n",
    "    while True:\n",
    "        required = target.copy()\n",
    "        done = True \n",
    "        for e, n in target.items():\n",
    "            if e == 'ORE' or n<=0: continue\n",
    "            done = False\n",
    "            lhs, rhs = recipes[e]\n",
    "            mult = 1 + (n-1)//lhs\n",
    "            required[e] -= lhs * mult\n",
    "            for amt, ing in rhs:\n",
    "                required[ing] += amt * mult\n",
    "        #print(required)\n",
    "        target = required\n",
    "        if done: return target['ORE']\n",
    "\n",
    "target = defaultdict(int)\n",
    "target['FUEL'] = 1\n",
    "r = create(target)\n",
    "print(r)"
   ]
  },
  {
   "cell_type": "code",
   "execution_count": 23,
   "metadata": {},
   "outputs": [
    {
     "data": {
      "text/plain": [
       "508305"
      ]
     },
     "execution_count": 23,
     "metadata": {},
     "output_type": "execute_result"
    }
   ],
   "source": [
    "1000000000000 // 1967319"
   ]
  },
  {
   "cell_type": "code",
   "execution_count": 26,
   "metadata": {},
   "outputs": [
    {
     "name": "stdout",
     "output_type": "stream",
     "text": [
      "1100000\n",
      "1110000\n",
      "1120000\n",
      "1122037\n"
     ]
    }
   ],
   "source": [
    "fuel = 1100000\n",
    "r = 0\n",
    "while r<1000000000000:\n",
    "    if fuel % 10000 == 0: print(fuel)\n",
    "    target['FUEL'] = fuel\n",
    "    r = create(target)\n",
    "    fuel += 1\n",
    "print(fuel-2)"
   ]
  },
  {
   "cell_type": "code",
   "execution_count": 28,
   "metadata": {},
   "outputs": [
    {
     "data": {
      "text/plain": [
       "999999332233"
      ]
     },
     "execution_count": 28,
     "metadata": {},
     "output_type": "execute_result"
    }
   ],
   "source": [
    "target['FUEL'] = 1122036\n",
    "create(target)"
   ]
  }
 ],
 "metadata": {
  "kernelspec": {
   "display_name": "Python 3",
   "language": "python",
   "name": "python3"
  },
  "language_info": {
   "codemirror_mode": {
    "name": "ipython",
    "version": 3
   },
   "file_extension": ".py",
   "mimetype": "text/x-python",
   "name": "python",
   "nbconvert_exporter": "python",
   "pygments_lexer": "ipython3",
   "version": "3.7.4"
  }
 },
 "nbformat": 4,
 "nbformat_minor": 2
}
