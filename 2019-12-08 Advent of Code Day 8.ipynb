{
 "cells": [
  {
   "cell_type": "code",
   "execution_count": 4,
   "metadata": {},
   "outputs": [],
   "source": [
    "with open('/Users/felixpuetsch/Downloads/input8.txt', 'rt') as f:\n",
    "    img = f.read().strip()"
   ]
  },
  {
   "cell_type": "code",
   "execution_count": 6,
   "metadata": {},
   "outputs": [],
   "source": [
    "WIDTH = 25\n",
    "HEIGHT = 6"
   ]
  },
  {
   "cell_type": "code",
   "execution_count": 18,
   "metadata": {},
   "outputs": [],
   "source": [
    "layer_size = WIDTH * HEIGHT\n",
    "num_layers = len(img) // layer_size\n",
    "layers = [img[layer_size * l:layer_size * (l+1)] for l in range(num_layers)]"
   ]
  },
  {
   "cell_type": "code",
   "execution_count": 32,
   "metadata": {},
   "outputs": [
    {
     "name": "stdout",
     "output_type": "stream",
     "text": [
      "1690\n"
     ]
    }
   ],
   "source": [
    "from collections import Counter\n",
    "\n",
    "result = list(map(Counter, layers))\n",
    "num_zeros = list(map(lambda x: x['0'], result))\n",
    "idx = num_zeros.index(min(num_zeros))\n",
    "print(result[idx]['1'] * result[idx]['2'])"
   ]
  },
  {
   "cell_type": "code",
   "execution_count": 73,
   "metadata": {},
   "outputs": [],
   "source": [
    "def output(image):\n",
    "    tab = str.maketrans('012', '▓░ ')\n",
    "    imgs = \"\".join(image).translate(tab)\n",
    "    for h in range(HEIGHT):\n",
    "        row = imgs[WIDTH*h: WIDTH*(h+1)]\n",
    "        print(row)"
   ]
  },
  {
   "cell_type": "code",
   "execution_count": 69,
   "metadata": {},
   "outputs": [],
   "source": [
    "def visible(pixel):\n",
    "    for p in pixel:\n",
    "        if p!='2': return p\n",
    "    return '0'\n",
    "pixels = list(map(list, zip(*layers)))\n",
    "decoded = list(map(visible, pixels))"
   ]
  },
  {
   "cell_type": "code",
   "execution_count": 74,
   "metadata": {},
   "outputs": [
    {
     "name": "stdout",
     "output_type": "stream",
     "text": [
      "░░░░▓░░░▓▓░░░░▓░▓▓░▓░░░▓▓\n",
      "▓▓▓░▓░▓▓░▓▓▓▓░▓░▓▓░▓░▓▓░▓\n",
      "▓▓░▓▓░▓▓░▓▓▓░▓▓░▓▓░▓░░░▓▓\n",
      "▓░▓▓▓░░░▓▓▓░▓▓▓░▓▓░▓░▓▓░▓\n",
      "░▓▓▓▓░▓▓▓▓░▓▓▓▓░▓▓░▓░▓▓░▓\n",
      "░░░░▓░▓▓▓▓░░░░▓▓░░▓▓░░░▓▓\n"
     ]
    }
   ],
   "source": [
    "output(decoded)"
   ]
  }
 ],
 "metadata": {
  "kernelspec": {
   "display_name": "Python 3",
   "language": "python",
   "name": "python3"
  },
  "language_info": {
   "codemirror_mode": {
    "name": "ipython",
    "version": 3
   },
   "file_extension": ".py",
   "mimetype": "text/x-python",
   "name": "python",
   "nbconvert_exporter": "python",
   "pygments_lexer": "ipython3",
   "version": "3.7.4"
  }
 },
 "nbformat": 4,
 "nbformat_minor": 2
}
