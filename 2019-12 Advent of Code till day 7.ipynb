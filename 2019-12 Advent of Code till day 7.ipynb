{
 "cells": [
  {
   "cell_type": "code",
   "execution_count": 1,
   "metadata": {},
   "outputs": [],
   "source": [
    "import pandas as pd"
   ]
  },
  {
   "cell_type": "markdown",
   "metadata": {},
   "source": [
    "# Day 1"
   ]
  },
  {
   "cell_type": "code",
   "execution_count": 172,
   "metadata": {},
   "outputs": [],
   "source": [
    "df = pd.read_csv('/Users/felixpuetsch/Downloads/input.txt', header=None, names=['mass'])"
   ]
  },
  {
   "cell_type": "code",
   "execution_count": 173,
   "metadata": {},
   "outputs": [
    {
     "data": {
      "text/plain": [
       "3384232"
      ]
     },
     "execution_count": 173,
     "metadata": {},
     "output_type": "execute_result"
    }
   ],
   "source": [
    "df.mass.apply(lambda m:m//3-2).sum()"
   ]
  },
  {
   "cell_type": "code",
   "execution_count": 176,
   "metadata": {},
   "outputs": [],
   "source": [
    "def fuel(m):\n",
    "    f = m//3-2\n",
    "    return f+fuel(f) if f>0 else 0"
   ]
  },
  {
   "cell_type": "code",
   "execution_count": 177,
   "metadata": {},
   "outputs": [
    {
     "data": {
      "text/plain": [
       "5073456"
      ]
     },
     "execution_count": 177,
     "metadata": {},
     "output_type": "execute_result"
    }
   ],
   "source": [
    "df.mass.apply(fuel).sum()"
   ]
  },
  {
   "cell_type": "markdown",
   "metadata": {},
   "source": [
    "# Day 2"
   ]
  },
  {
   "cell_type": "code",
   "execution_count": 38,
   "metadata": {},
   "outputs": [],
   "source": [
    "def run(p):\n",
    "    ip = 0\n",
    "    while True:\n",
    "        op = p[ip]\n",
    "        if op == 99: return p\n",
    "        [s1, s2, t] = p[ip+1:ip+4]\n",
    "        if   op == 1: p[t]=p[s1] + p[s2]\n",
    "        elif op == 2: p[t]=p[s1] * p[s2]\n",
    "        ip += 4"
   ]
  },
  {
   "cell_type": "code",
   "execution_count": 50,
   "metadata": {},
   "outputs": [],
   "source": [
    "test = [1,9,10,3,2,3,11,0,99,30,40,50]\n",
    "prog = [1,0,0,3,1,1,2,3,1,3,4,3,1,5,0,3,2,13,1,19,1,19,6,23,1,23,6,27,1,13,27,31,2,13,31,35,1,5,35,39,2,39,13,43,1,10,43,47,2,13,47,51,1,6,51,55,2,55,13,59,1,59,10,63,1,63,10,67,2,10,67,71,1,6,71,75,1,10,75,79,1,79,9,83,2,83,6,87,2,87,9,91,1,5,91,95,1,6,95,99,1,99,9,103,2,10,103,107,1,107,6,111,2,9,111,115,1,5,115,119,1,10,119,123,1,2,123,127,1,127,6,0,99,2,14,0,0]"
   ]
  },
  {
   "cell_type": "code",
   "execution_count": 40,
   "metadata": {},
   "outputs": [
    {
     "data": {
      "text/plain": [
       "[3500, 9, 10, 70, 2, 3, 11, 0, 99, 30, 40, 50]"
      ]
     },
     "execution_count": 40,
     "metadata": {},
     "output_type": "execute_result"
    }
   ],
   "source": [
    "run(test)"
   ]
  },
  {
   "cell_type": "code",
   "execution_count": 51,
   "metadata": {},
   "outputs": [],
   "source": [
    "run1 = prog.copy()\n",
    "run1[1:3] = [12, 2]"
   ]
  },
  {
   "cell_type": "code",
   "execution_count": 52,
   "metadata": {},
   "outputs": [
    {
     "data": {
      "text/plain": [
       "12490719"
      ]
     },
     "execution_count": 52,
     "metadata": {},
     "output_type": "execute_result"
    }
   ],
   "source": [
    "run(run1)[0]"
   ]
  },
  {
   "cell_type": "code",
   "execution_count": 54,
   "metadata": {},
   "outputs": [
    {
     "name": "stdout",
     "output_type": "stream",
     "text": [
      "20 3 2003\n"
     ]
    }
   ],
   "source": [
    "for n in range(100):\n",
    "    for v in range(100):\n",
    "        run2 = prog.copy()\n",
    "        run2[1:3] = [n, v]\n",
    "        try:\n",
    "            r = run(run2)\n",
    "            if r[0]==19690720:\n",
    "                print(n, v, 100*n+v)\n",
    "        except IndexError: pass"
   ]
  },
  {
   "cell_type": "markdown",
   "metadata": {},
   "source": [
    "# Day 3"
   ]
  },
  {
   "cell_type": "code",
   "execution_count": 109,
   "metadata": {},
   "outputs": [],
   "source": [
    "test1 = 'R8,U5,L5,D3'.split(',')\n",
    "test2 = 'U7,R6,D4,L4'.split(',')\n",
    "test3 = 'R75,D30,R83,U83,L12,D49,R71,U7,L72'.split(',')\n",
    "test4 = 'U62,R66,U55,R34,D71,R55,D58,R83'.split(',')\n",
    "test5 = 'R98,U47,R26,D63,R33,U87,L62,D20,R33,U53,R51'.split(',')\n",
    "test6 = 'U98,R91,D20,R16,D67,R40,U7,R15,U6,R7'.split(',')\n",
    "run1 = 'R1008,U428,L339,U16,R910,U221,R53,D546,L805,U376,L19,U708,R493,D489,L443,D567,R390,D771,R270,U737,R926,U181,L306,D456,L668,D79,L922,U433,L701,U472,R914,U903,L120,U199,L273,D206,L967,U711,R976,U976,R603,U8,L882,U980,R561,D697,L224,D620,L483,U193,R317,D588,L932,D990,R658,U998,L136,U759,R463,U890,L297,U648,R163,U250,R852,U699,R236,D254,L173,U720,L259,U632,L635,U426,R235,D699,R411,U650,L258,D997,L781,D209,L697,D306,L793,U657,L936,U317,R549,D798,L951,D80,R591,D480,R835,U292,L722,U987,L775,U173,R353,U404,L250,U652,L527,D282,L365,D657,L141,D301,R128,D590,L666,U478,L85,D822,L716,U68,R253,D186,R81,U741,L316,D615,L570,U407,L734,D345,L652,U362,L360,D791,R358,U190,L823,U274,L279,D998,L16,D644,L201,D469,R213,D487,L251,D395,R130,U902,L398,U201,L56,D850,R541,D661,R921,U647,R309,D550,L307,D68,R894,U653,L510,D375,R20,U86,R357,D120,L978,D200,L45,D247,R906,U334,L242,D466,R418,U548,R698,D158,R582,U469,L968,U736,R196,U437,R87,D722,R811,U625,L425,D675,L904,D331,R693,D491,R559,U540,L120,D975,R180,U224,R610,U260,L769,D486,R93,D300,L230,U181,L60,U910,L60,D554,L527,U37,R69,D649,R768,D835,L581,U932,L746,U170,L733,U40,L497,D957,R12,U686,R85,D461,R796,D142,R664,U787,R636,D621,R824,D421,R902,D686,L202,D839,R567,D129,L77,D917,L200,D106,R3,D546,L101,D762,R780,U334,L410,D190,R431,D828,L816,D529,R648,D449,L845,U49,R750,U864,L133,D822,R46,U475,L229,U929,L676,D793,R379,U71,L243,U640,L122,U183,R528,U22,R375,D928,R292,U796,R259,U325,L921,U489,L246,D153,L384,D684,L243,U65,L342,U662,R707'.split(',')\n",
    "run2 = 'L1008,D243,L602,D497,L395,U81,R589,U94,R640,D965,L397,D781,R464,U642,L130,D740,R938,D260,L106,D323,L626,U869,L495,U450,R640,D675,R602,D449,L542,U917,L244,U702,L644,D809,R902,U163,R118,U982,L867,D795,R546,U194,R397,D877,L354,D255,L477,U45,L707,D624,R806,U642,L926,D233,L800,U691,L990,D979,L431,U999,L423,D794,L238,U25,R986,U595,L167,U480,L555,U831,R496,U799,L897,D895,L993,D11,R486,U176,L90,U842,R499,U792,R787,U859,L100,U169,R170,D89,R297,D944,R362,D460,R147,U831,L45,U972,R582,D90,L934,U284,R555,U235,L138,U837,R965,U915,R928,U982,R157,D566,L953,U653,L629,U460,L335,D912,R355,D683,L710,D562,R392,D44,R707,D979,L749,D223,L776,D723,R735,D356,R49,U567,L563,D220,L868,U223,R448,D505,L411,U662,L188,D536,R55,U718,L108,D289,R435,U98,R775,U933,L127,D84,R253,D523,L2,D905,R266,U675,R758,D331,R122,U988,R215,D500,R89,U306,R833,U763,R570,D818,L985,U127,L87,D210,R355,D532,R870,U196,R695,U633,R170,D540,R506,U708,L663,U566,L633,U306,L452,U180,R463,D21,L220,D268,R608,U986,L493,D598,L957,D116,L454,D584,L405,U651,R352,U681,R807,U767,L988,U692,R474,U710,R607,U313,R711,U12,R371,D561,R72,U522,R270,U904,L49,U525,R562,U895,L232,D319,R902,D236,L601,D816,R836,U419,R610,U644,L733,U355,L836,U228,L895,D39,L44,D848,L965,U475,R56,U62,L458,U99,R236,D763,R912,U295,R515,U179,R20,D777,R511,D906,R903,U855,L507,D512,L63,D630,R442,U595,L701,U654,R238,D35,L31,D469,R6,D222,R132,D837,R921,U838,R986,D441,L950,D530,L397,U41,L81,D60,L245,D75,R620,D455,L937,D180,R215,D684,R724,U561,R479,D353,L501'.split(',')"
   ]
  },
  {
   "cell_type": "code",
   "execution_count": 161,
   "metadata": {},
   "outputs": [],
   "source": [
    "from collections import defaultdict\n",
    "\n",
    "def intersect(wire1, wire2, metric=False):\n",
    "    path = set()\n",
    "    intersections = []\n",
    "    def run(wire, first):\n",
    "        (x, y) = (0, 0)\n",
    "        t = 0\n",
    "        distances = defaultdict(lambda: 9999999)\n",
    "        for leg in wire:\n",
    "            d = leg[0]\n",
    "            l = int(leg[1:])\n",
    "            for i in range(l):\n",
    "                t += 1\n",
    "                if d == 'R':   x += 1\n",
    "                elif d == 'L': x -= 1\n",
    "                elif d == 'U': y += 1\n",
    "                elif d == 'D': y -= 1\n",
    "                    \n",
    "                distances[(x,y)] = min(distances[(x,y)], t)\n",
    "                \n",
    "                if first: path.add((x,y))\n",
    "                elif (x,y) in path: intersections.append( (x,y) )  \n",
    "        return distances\n",
    "\n",
    "    d1 = run(wire1, True)\n",
    "    d2 = run(wire2, False)\n",
    "    \n",
    "    m = 9999999\n",
    "    for (x,y) in intersections:\n",
    "        d = abs(x)+abs(y) if not metric else d1[(x,y)] + d2[(x,y)]\n",
    "        if d<m: m = d\n",
    "    return m"
   ]
  },
  {
   "cell_type": "code",
   "execution_count": 162,
   "metadata": {},
   "outputs": [
    {
     "data": {
      "text/plain": [
       "6"
      ]
     },
     "execution_count": 162,
     "metadata": {},
     "output_type": "execute_result"
    }
   ],
   "source": [
    "intersect(test1, test2) #==6"
   ]
  },
  {
   "cell_type": "code",
   "execution_count": 163,
   "metadata": {},
   "outputs": [
    {
     "data": {
      "text/plain": [
       "159"
      ]
     },
     "execution_count": 163,
     "metadata": {},
     "output_type": "execute_result"
    }
   ],
   "source": [
    "intersect(test3, test4) #==159"
   ]
  },
  {
   "cell_type": "code",
   "execution_count": 164,
   "metadata": {},
   "outputs": [
    {
     "data": {
      "text/plain": [
       "135"
      ]
     },
     "execution_count": 164,
     "metadata": {},
     "output_type": "execute_result"
    }
   ],
   "source": [
    "intersect(test5, test6) #==135"
   ]
  },
  {
   "cell_type": "code",
   "execution_count": 165,
   "metadata": {},
   "outputs": [
    {
     "data": {
      "text/plain": [
       "2180"
      ]
     },
     "execution_count": 165,
     "metadata": {},
     "output_type": "execute_result"
    }
   ],
   "source": [
    "intersect(run1, run2)"
   ]
  },
  {
   "cell_type": "code",
   "execution_count": 166,
   "metadata": {},
   "outputs": [
    {
     "data": {
      "text/plain": [
       "30"
      ]
     },
     "execution_count": 166,
     "metadata": {},
     "output_type": "execute_result"
    }
   ],
   "source": [
    "intersect(test1, test2, metric=True)"
   ]
  },
  {
   "cell_type": "code",
   "execution_count": 167,
   "metadata": {},
   "outputs": [
    {
     "data": {
      "text/plain": [
       "610"
      ]
     },
     "execution_count": 167,
     "metadata": {},
     "output_type": "execute_result"
    }
   ],
   "source": [
    "intersect(test3, test4, metric=True)"
   ]
  },
  {
   "cell_type": "code",
   "execution_count": 168,
   "metadata": {},
   "outputs": [
    {
     "data": {
      "text/plain": [
       "410"
      ]
     },
     "execution_count": 168,
     "metadata": {},
     "output_type": "execute_result"
    }
   ],
   "source": [
    "intersect(test5, test6, metric=True)"
   ]
  },
  {
   "cell_type": "code",
   "execution_count": 169,
   "metadata": {},
   "outputs": [
    {
     "data": {
      "text/plain": [
       "112316"
      ]
     },
     "execution_count": 169,
     "metadata": {},
     "output_type": "execute_result"
    }
   ],
   "source": [
    "intersect(run1, run2, metric=True)"
   ]
  },
  {
   "cell_type": "code",
   "execution_count": 183,
   "metadata": {},
   "outputs": [],
   "source": [
    "a={'a':1, 'b':'c'}"
   ]
  },
  {
   "cell_type": "markdown",
   "metadata": {},
   "source": [
    "# Day 5"
   ]
  },
  {
   "cell_type": "code",
   "execution_count": 622,
   "metadata": {},
   "outputs": [],
   "source": [
    "def runm(p):\n",
    "    def get_param(ip, modes, n):\n",
    "        return p[p[ip+n]] if modes[n-1]==0 else p[ip+n]\n",
    "    ip = 0\n",
    "    while True:\n",
    "        first = p[ip]\n",
    "        op = first % 100\n",
    "        if op == 99: return\n",
    "        modes = list(map(int, str(first // 100)))\n",
    "        if op in [1,2,7,8]: param_count = 3\n",
    "        elif op in [5,6]: param_count = 2\n",
    "        elif op in [3,4]: param_count = 1\n",
    "        else:\n",
    "            print(\"Unknown opcode\", op)\n",
    "            return\n",
    "        while len(modes) < param_count: modes = [0] + modes\n",
    "        modes = modes[::-1]\n",
    "        #print(f\"ip={ip}, op={op}, modes={modes}, params={p[ip+1:ip+param_count+1]}\")\n",
    "        if op == 3: p[p[ip+1]] = int(input('Input: '))\n",
    "        elif op == 4: print(get_param(ip, modes, 1))\n",
    "        elif op == 1: p[p[ip+3]] = get_param(ip, modes, 1) + get_param(ip, modes, 2)\n",
    "        elif op == 2: p[p[ip+3]] = get_param(ip, modes, 1) * get_param(ip, modes, 2)\n",
    "        elif op == 5:\n",
    "            if get_param(ip, modes, 1)!=0:\n",
    "                ip = get_param(ip, modes, 2)\n",
    "                continue\n",
    "        elif op == 6:\n",
    "            if get_param(ip, modes, 1)==0:\n",
    "                ip = get_param(ip, modes, 2)\n",
    "                continue\n",
    "        elif op == 7: p[p[ip+3]] = 1 if get_param(ip, modes, 1) < get_param(ip, modes, 2) else 0\n",
    "        elif op == 8: p[p[ip+3]] = 1 if get_param(ip, modes, 1) == get_param(ip, modes, 2) else 0\n",
    "        ip += 1 + param_count"
   ]
  },
  {
   "cell_type": "code",
   "execution_count": 330,
   "metadata": {},
   "outputs": [],
   "source": [
    "test1 = [1101,100,-1,4,0]\n",
    "test2 = [3,0,4,0,99]\n",
    "test3 = [3,12,6,12,15,1,13,14,13,4,13,99,-1,0,1,9]\n",
    "test4 = [3,3,1105,-1,9,1101,0,0,12,4,12,99,1]\n",
    "test5 = [3,21,1008,21,8,20,1005,20,22,107,8,21,20,1006,20,31,1106,0,36,98,0,0,1002,21,125,20,4,20,1105,1,46,104,999,1105,1,46,1101,1000,1,20,4,20,1105,1,46,98,99]\n",
    "prog = [3,225,1,225,6,6,1100,1,238,225,104,0,1,191,196,224,1001,224,-85,224,4,224,1002,223,8,223,1001,224,4,224,1,223,224,223,1101,45,50,225,1102,61,82,225,101,44,39,224,101,-105,224,224,4,224,102,8,223,223,101,5,224,224,1,224,223,223,102,14,187,224,101,-784,224,224,4,224,102,8,223,223,101,7,224,224,1,224,223,223,1001,184,31,224,1001,224,-118,224,4,224,102,8,223,223,1001,224,2,224,1,223,224,223,1102,91,18,225,2,35,110,224,101,-810,224,224,4,224,102,8,223,223,101,3,224,224,1,223,224,223,1101,76,71,224,1001,224,-147,224,4,224,102,8,223,223,101,2,224,224,1,224,223,223,1101,7,16,225,1102,71,76,224,101,-5396,224,224,4,224,1002,223,8,223,101,5,224,224,1,224,223,223,1101,72,87,225,1101,56,77,225,1102,70,31,225,1102,29,15,225,1002,158,14,224,1001,224,-224,224,4,224,102,8,223,223,101,1,224,224,1,223,224,223,4,223,99,0,0,0,677,0,0,0,0,0,0,0,0,0,0,0,1105,0,99999,1105,227,247,1105,1,99999,1005,227,99999,1005,0,256,1105,1,99999,1106,227,99999,1106,0,265,1105,1,99999,1006,0,99999,1006,227,274,1105,1,99999,1105,1,280,1105,1,99999,1,225,225,225,1101,294,0,0,105,1,0,1105,1,99999,1106,0,300,1105,1,99999,1,225,225,225,1101,314,0,0,106,0,0,1105,1,99999,1007,226,226,224,1002,223,2,223,1006,224,329,1001,223,1,223,8,226,677,224,1002,223,2,223,1005,224,344,1001,223,1,223,107,226,677,224,1002,223,2,223,1006,224,359,1001,223,1,223,8,677,677,224,1002,223,2,223,1005,224,374,1001,223,1,223,1108,226,226,224,1002,223,2,223,1005,224,389,1001,223,1,223,7,677,226,224,1002,223,2,223,1005,224,404,101,1,223,223,7,226,226,224,102,2,223,223,1006,224,419,1001,223,1,223,1108,226,677,224,102,2,223,223,1005,224,434,1001,223,1,223,1107,226,226,224,1002,223,2,223,1006,224,449,1001,223,1,223,1007,677,677,224,102,2,223,223,1006,224,464,1001,223,1,223,107,226,226,224,1002,223,2,223,1005,224,479,101,1,223,223,1107,677,226,224,1002,223,2,223,1005,224,494,1001,223,1,223,1008,677,677,224,102,2,223,223,1005,224,509,101,1,223,223,107,677,677,224,102,2,223,223,1005,224,524,1001,223,1,223,1108,677,226,224,1002,223,2,223,1005,224,539,1001,223,1,223,7,226,677,224,102,2,223,223,1006,224,554,1001,223,1,223,8,677,226,224,1002,223,2,223,1006,224,569,101,1,223,223,108,226,226,224,1002,223,2,223,1006,224,584,1001,223,1,223,1107,226,677,224,1002,223,2,223,1006,224,599,101,1,223,223,1008,226,226,224,102,2,223,223,1005,224,614,1001,223,1,223,1007,226,677,224,1002,223,2,223,1006,224,629,1001,223,1,223,108,677,226,224,102,2,223,223,1005,224,644,101,1,223,223,1008,226,677,224,1002,223,2,223,1005,224,659,101,1,223,223,108,677,677,224,1002,223,2,223,1006,224,674,1001,223,1,223,4,223,99,226]"
   ]
  },
  {
   "cell_type": "code",
   "execution_count": 336,
   "metadata": {},
   "outputs": [
    {
     "name": "stdout",
     "output_type": "stream",
     "text": [
      "Input: 5\n",
      "4283952\n"
     ]
    }
   ],
   "source": [
    "runm(prog.copy())"
   ]
  },
  {
   "cell_type": "markdown",
   "metadata": {},
   "source": [
    "# Day 6"
   ]
  },
  {
   "cell_type": "code",
   "execution_count": 345,
   "metadata": {},
   "outputs": [],
   "source": [
    "test = \"\"\"COM)B\n",
    "B)C\n",
    "C)D\n",
    "D)E\n",
    "E)F\n",
    "B)G\n",
    "G)H\n",
    "D)I\n",
    "E)J\n",
    "J)K\n",
    "K)L\n",
    "\"\"\""
   ]
  },
  {
   "cell_type": "code",
   "execution_count": 359,
   "metadata": {},
   "outputs": [
    {
     "data": {
      "text/html": [
       "<div>\n",
       "<style scoped>\n",
       "    .dataframe tbody tr th:only-of-type {\n",
       "        vertical-align: middle;\n",
       "    }\n",
       "\n",
       "    .dataframe tbody tr th {\n",
       "        vertical-align: top;\n",
       "    }\n",
       "\n",
       "    .dataframe thead th {\n",
       "        text-align: right;\n",
       "    }\n",
       "</style>\n",
       "<table border=\"1\" class=\"dataframe\">\n",
       "  <thead>\n",
       "    <tr style=\"text-align: right;\">\n",
       "      <th></th>\n",
       "      <th>center</th>\n",
       "      <th>orbit</th>\n",
       "    </tr>\n",
       "  </thead>\n",
       "  <tbody>\n",
       "    <tr>\n",
       "      <th>0</th>\n",
       "      <td>COM</td>\n",
       "      <td>B</td>\n",
       "    </tr>\n",
       "    <tr>\n",
       "      <th>1</th>\n",
       "      <td>B</td>\n",
       "      <td>C</td>\n",
       "    </tr>\n",
       "    <tr>\n",
       "      <th>2</th>\n",
       "      <td>C</td>\n",
       "      <td>D</td>\n",
       "    </tr>\n",
       "    <tr>\n",
       "      <th>3</th>\n",
       "      <td>D</td>\n",
       "      <td>E</td>\n",
       "    </tr>\n",
       "    <tr>\n",
       "      <th>4</th>\n",
       "      <td>E</td>\n",
       "      <td>F</td>\n",
       "    </tr>\n",
       "    <tr>\n",
       "      <th>5</th>\n",
       "      <td>B</td>\n",
       "      <td>G</td>\n",
       "    </tr>\n",
       "    <tr>\n",
       "      <th>6</th>\n",
       "      <td>G</td>\n",
       "      <td>H</td>\n",
       "    </tr>\n",
       "    <tr>\n",
       "      <th>7</th>\n",
       "      <td>D</td>\n",
       "      <td>I</td>\n",
       "    </tr>\n",
       "    <tr>\n",
       "      <th>8</th>\n",
       "      <td>E</td>\n",
       "      <td>J</td>\n",
       "    </tr>\n",
       "    <tr>\n",
       "      <th>9</th>\n",
       "      <td>J</td>\n",
       "      <td>K</td>\n",
       "    </tr>\n",
       "    <tr>\n",
       "      <th>10</th>\n",
       "      <td>K</td>\n",
       "      <td>L</td>\n",
       "    </tr>\n",
       "  </tbody>\n",
       "</table>\n",
       "</div>"
      ],
      "text/plain": [
       "   center orbit\n",
       "0     COM     B\n",
       "1       B     C\n",
       "2       C     D\n",
       "3       D     E\n",
       "4       E     F\n",
       "5       B     G\n",
       "6       G     H\n",
       "7       D     I\n",
       "8       E     J\n",
       "9       J     K\n",
       "10      K     L"
      ]
     },
     "execution_count": 359,
     "metadata": {},
     "output_type": "execute_result"
    }
   ],
   "source": [
    "dft = pd.DataFrame(test.splitlines())\n",
    "dft = dft[0].str.split(')', expand=True)\n",
    "dft.columns = ['center', 'orbit']\n",
    "dft"
   ]
  },
  {
   "cell_type": "code",
   "execution_count": 362,
   "metadata": {},
   "outputs": [
    {
     "name": "stdout",
     "output_type": "stream",
     "text": [
      "42\n"
     ]
    }
   ],
   "source": [
    "def count(o):\n",
    "    total = 0\n",
    "    for r in dft[dft.orbit.eq(o)].itertuples():\n",
    "        total += 1 + count(r.center)\n",
    "    return total\n",
    "\n",
    "total = 0\n",
    "for o in dft.orbit.unique():\n",
    "    total += count(o)\n",
    "print(total)"
   ]
  },
  {
   "cell_type": "code",
   "execution_count": 398,
   "metadata": {},
   "outputs": [],
   "source": [
    "import pandas as pd\n",
    "from tqdm import tqdm_notebook as tqdm\n",
    "df = pd.read_csv('/Users/felixpuetsch/Downloads/input6.txt', sep=')', header=None, names=['center','orbit'])"
   ]
  },
  {
   "cell_type": "code",
   "execution_count": 356,
   "metadata": {},
   "outputs": [
    {
     "data": {
      "application/vnd.jupyter.widget-view+json": {
       "model_id": "39f577b209a246b2affcdddc43f5b1ce",
       "version_major": 2,
       "version_minor": 0
      },
      "text/plain": [
       "HBox(children=(IntProgress(value=0, max=1294), HTML(value='')))"
      ]
     },
     "metadata": {},
     "output_type": "display_data"
    },
    {
     "name": "stdout",
     "output_type": "stream",
     "text": [
      "\n",
      "186597\n"
     ]
    }
   ],
   "source": [
    "def count(o):\n",
    "    total = 0\n",
    "    for r in df[df.orbit.eq(o)].itertuples():\n",
    "        total += 1 + count(r.center)\n",
    "    return total\n",
    "\n",
    "total = 0\n",
    "for o in tqdm(df.orbit.unique()):\n",
    "    total += count(o)\n",
    "print(total)"
   ]
  },
  {
   "cell_type": "code",
   "execution_count": 446,
   "metadata": {},
   "outputs": [],
   "source": [
    "def get_path(o, p = None, steps=0):\n",
    "    if not p: p = {}\n",
    "    for r in df[df.orbit.eq(o)].itertuples():\n",
    "        p[r.center] = steps\n",
    "        p = get_path(r.center, p, steps+1)\n",
    "    return p"
   ]
  },
  {
   "cell_type": "code",
   "execution_count": 421,
   "metadata": {},
   "outputs": [],
   "source": [
    "def get_df(o):\n",
    "    p = get_path(o)\n",
    "    res = pd.DataFrame(p.items())\n",
    "    res.columns = ['center','hops']\n",
    "    res.set_index('center', inplace=True)\n",
    "    return res"
   ]
  },
  {
   "cell_type": "code",
   "execution_count": 447,
   "metadata": {},
   "outputs": [],
   "source": [
    "p1 = get_df('YOU')\n",
    "p2 = get_df('SAN')"
   ]
  },
  {
   "cell_type": "code",
   "execution_count": 450,
   "metadata": {},
   "outputs": [
    {
     "name": "stdout",
     "output_type": "stream",
     "text": [
      "412\n"
     ]
    }
   ],
   "source": [
    "result = pd.merge(p1, p2, left_index=True, right_index=True, how='inner')\n",
    "result['distance'] = result.hops_x + result.hops_y\n",
    "print(result.distance.min())"
   ]
  },
  {
   "cell_type": "markdown",
   "metadata": {},
   "source": [
    "# Day 7"
   ]
  },
  {
   "cell_type": "code",
   "execution_count": 692,
   "metadata": {},
   "outputs": [],
   "source": [
    "class machine():\n",
    "    \n",
    "    def __init__(self, p, inp):\n",
    "        self.p = p\n",
    "        self.inputs = [inp]\n",
    "    \n",
    "    def add_input(self, inp):\n",
    "        self.inputs.append(inp)\n",
    "    \n",
    "    def run(self):\n",
    "        p = self.p\n",
    "        def get_param(ip, modes, n):\n",
    "            return p[p[ip+n]] if modes[n-1]==0 else p[ip+n]\n",
    "        ip = 0\n",
    "        while True:\n",
    "            first = p[ip]\n",
    "            op = first % 100\n",
    "            if op == 99: return\n",
    "            modes = list(map(int, str(first // 100)))\n",
    "            if op in [1,2,7,8]: param_count = 3\n",
    "            elif op in [5,6]: param_count = 2\n",
    "            elif op in [3,4]: param_count = 1\n",
    "            else:\n",
    "                print(\"Unknown opcode\", op)\n",
    "                return\n",
    "            while len(modes) < param_count: modes = [0] + modes\n",
    "            modes = modes[::-1]\n",
    "            if op == 3:\n",
    "                p[p[ip+1]] = self.inputs[0]\n",
    "                self.inputs = self.inputs[1:]\n",
    "            elif op == 4: yield get_param(ip, modes, 1)\n",
    "            elif op == 1: p[p[ip+3]] = get_param(ip, modes, 1) + get_param(ip, modes, 2)\n",
    "            elif op == 2: p[p[ip+3]] = get_param(ip, modes, 1) * get_param(ip, modes, 2)\n",
    "            elif op == 5:\n",
    "                if get_param(ip, modes, 1)!=0:\n",
    "                    ip = get_param(ip, modes, 2)\n",
    "                    continue\n",
    "            elif op == 6:\n",
    "                if get_param(ip, modes, 1)==0:\n",
    "                    ip = get_param(ip, modes, 2)\n",
    "                    continue\n",
    "            elif op == 7: p[p[ip+3]] = 1 if get_param(ip, modes, 1) < get_param(ip, modes, 2) else 0\n",
    "            elif op == 8: p[p[ip+3]] = 1 if get_param(ip, modes, 1) == get_param(ip, modes, 2) else 0\n",
    "            ip += 1 + param_count     \n",
    "    \n",
    "    def start(self):\n",
    "        return self.run()"
   ]
  },
  {
   "cell_type": "code",
   "execution_count": 693,
   "metadata": {},
   "outputs": [],
   "source": [
    "def chain_run(p, inp, iteration=False):\n",
    "    N_MACHINES = 5\n",
    "    machines = [machine(p.copy(), inp[i]) for i in range(N_MACHINES)]\n",
    "    runs = [machines[i].start() for i in range(N_MACHINES)]\n",
    "    res = 0\n",
    "    while True:\n",
    "        try:\n",
    "            for i in range(N_MACHINES):\n",
    "                machines[i].add_input(res)\n",
    "                res = next(runs[i])\n",
    "        except StopIteration: break\n",
    "    return res"
   ]
  },
  {
   "cell_type": "code",
   "execution_count": 694,
   "metadata": {},
   "outputs": [],
   "source": [
    "from itertools import permutations\n",
    "\n",
    "def maximize(p, input_list):\n",
    "    results = pd.DataFrame()\n",
    "    results['input'] = [list(p) for p in permutations(input_list,5)]\n",
    "    results['output'] = results.input.apply(lambda i: chain_run(p, i))\n",
    "    return results.loc[results.output.idxmax()]"
   ]
  },
  {
   "cell_type": "code",
   "execution_count": 695,
   "metadata": {},
   "outputs": [],
   "source": [
    "test1 = [3,15,3,16,1002,16,10,16,1,16,15,15,4,15,99,0,0]\n",
    "inputs1 = [4,3,2,1,0]\n",
    "test2 = [3,31,3,32,1002,32,10,32,1001,31,-2,31,1007,31,0,33,1002,33,7,33,1,33,31,31,1,32,31,31,4,31,99,0,0,0]\n",
    "inputs2 = [1,0,4,3,2]"
   ]
  },
  {
   "cell_type": "code",
   "execution_count": 696,
   "metadata": {},
   "outputs": [
    {
     "data": {
      "text/plain": [
       "43210"
      ]
     },
     "execution_count": 696,
     "metadata": {},
     "output_type": "execute_result"
    }
   ],
   "source": [
    "chain_run(test1, inputs1)"
   ]
  },
  {
   "cell_type": "code",
   "execution_count": 697,
   "metadata": {},
   "outputs": [
    {
     "data": {
      "text/plain": [
       "65210"
      ]
     },
     "execution_count": 697,
     "metadata": {},
     "output_type": "execute_result"
    }
   ],
   "source": [
    "chain_run(test2, inputs2)"
   ]
  },
  {
   "cell_type": "code",
   "execution_count": 698,
   "metadata": {},
   "outputs": [
    {
     "data": {
      "text/plain": [
       "input     [4, 3, 2, 1, 0]\n",
       "output              43210\n",
       "Name: 119, dtype: object"
      ]
     },
     "execution_count": 698,
     "metadata": {},
     "output_type": "execute_result"
    }
   ],
   "source": [
    "maximize(test1, list(range(5)))"
   ]
  },
  {
   "cell_type": "code",
   "execution_count": 699,
   "metadata": {},
   "outputs": [
    {
     "data": {
      "text/plain": [
       "input     [1, 0, 4, 3, 2]\n",
       "output              65210\n",
       "Name: 29, dtype: object"
      ]
     },
     "execution_count": 699,
     "metadata": {},
     "output_type": "execute_result"
    }
   ],
   "source": [
    "maximize(test2, list(range(5)))"
   ]
  },
  {
   "cell_type": "code",
   "execution_count": 700,
   "metadata": {},
   "outputs": [
    {
     "data": {
      "text/plain": [
       "input     [0, 2, 3, 4, 1]\n",
       "output             844468\n",
       "Name: 9, dtype: object"
      ]
     },
     "execution_count": 700,
     "metadata": {},
     "output_type": "execute_result"
    }
   ],
   "source": [
    "with open('/Users/felixpuetsch/Downloads/input7.txt', 'rt') as f:\n",
    "    prog = f.read()\n",
    "    prog = list(map(int, prog.strip().split(',')))\n",
    "maximize(prog, list(range(5)))"
   ]
  },
  {
   "cell_type": "code",
   "execution_count": 704,
   "metadata": {},
   "outputs": [],
   "source": [
    "test3 = [3,26,1001,26,-4,26,3,27,1002,27,2,27,1,27,26,27,4,27,1001,28,-1,28,1005,28,6,99,0,0,5]\n",
    "test4 = [3,52,1001,52,-5,52,3,53,1,52,56,54,1007,54,5,55,1005,55,26,1001,54,-5,54,1105,1,12,1,53,54,53,1008,54,0,55,1001,55,1,55,2,53,55,53,4,53,1001,56,-1,56,1005,56,6,99,0,0,0,0,10]"
   ]
  },
  {
   "cell_type": "code",
   "execution_count": 702,
   "metadata": {},
   "outputs": [
    {
     "data": {
      "text/plain": [
       "139629729"
      ]
     },
     "execution_count": 702,
     "metadata": {},
     "output_type": "execute_result"
    }
   ],
   "source": [
    "chain_run(test3, [9,8,7,6,5], iteration=True)"
   ]
  },
  {
   "cell_type": "code",
   "execution_count": 703,
   "metadata": {},
   "outputs": [
    {
     "data": {
      "text/plain": [
       "input     [9, 8, 7, 6, 5]\n",
       "output          139629729\n",
       "Name: 119, dtype: object"
      ]
     },
     "execution_count": 703,
     "metadata": {},
     "output_type": "execute_result"
    }
   ],
   "source": [
    "maximize(test3, list(range(5,10)))"
   ]
  },
  {
   "cell_type": "code",
   "execution_count": 705,
   "metadata": {},
   "outputs": [
    {
     "data": {
      "text/plain": [
       "input     [9, 7, 8, 5, 6]\n",
       "output              18216\n",
       "Name: 112, dtype: object"
      ]
     },
     "execution_count": 705,
     "metadata": {},
     "output_type": "execute_result"
    }
   ],
   "source": [
    "maximize(test4, list(range(5,10)))"
   ]
  },
  {
   "cell_type": "code",
   "execution_count": 706,
   "metadata": {},
   "outputs": [
    {
     "data": {
      "text/plain": [
       "input     [6, 5, 8, 7, 9]\n",
       "output            4215746\n",
       "Name: 26, dtype: object"
      ]
     },
     "execution_count": 706,
     "metadata": {},
     "output_type": "execute_result"
    }
   ],
   "source": [
    "maximize(prog, list(range(5,10)))"
   ]
  }
 ],
 "metadata": {
  "kernelspec": {
   "display_name": "Python 3",
   "language": "python",
   "name": "python3"
  },
  "language_info": {
   "codemirror_mode": {
    "name": "ipython",
    "version": 3
   },
   "file_extension": ".py",
   "mimetype": "text/x-python",
   "name": "python",
   "nbconvert_exporter": "python",
   "pygments_lexer": "ipython3",
   "version": "3.7.4"
  }
 },
 "nbformat": 4,
 "nbformat_minor": 2
}
