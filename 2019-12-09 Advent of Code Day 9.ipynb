{
 "cells": [
  {
   "cell_type": "code",
   "execution_count": 2,
   "metadata": {},
   "outputs": [],
   "source": [
    "import pandas as pd"
   ]
  },
  {
   "cell_type": "code",
   "execution_count": 75,
   "metadata": {},
   "outputs": [],
   "source": [
    "class machine():\n",
    "    \n",
    "    def __init__(self, p, inp):\n",
    "        self.p = p + [0] * 1000\n",
    "        self.inputs = [inp]\n",
    "    \n",
    "    def add_input(self, inp):\n",
    "        self.inputs.append(inp)\n",
    "    \n",
    "    def run(self):\n",
    "        p = self.p\n",
    "        rel_base = 0\n",
    "        def get_param(ip, modes, n):\n",
    "            addr = p[ip+n]\n",
    "            if modes[n-1]==0: return p[addr]              # position mode\n",
    "            elif modes[n-1]==1: return addr               # immediate mode\n",
    "            elif modes[n-1]==2: return p[rel_base + addr] # relative mode\n",
    "            else:\n",
    "                print(\"Unknown relative mode for read\")\n",
    "                return\n",
    "        def set_param(ip, modes, n, val):\n",
    "            addr = p[ip+n]\n",
    "            if modes[n-1]==0: p[addr] = val\n",
    "            elif modes[n-1]==2: p[rel_base + addr] = val\n",
    "            else:\n",
    "                print(\"Unknown relative mode for write\")\n",
    "        ip = 0\n",
    "        while True:\n",
    "            first = p[ip]\n",
    "            op = first % 100\n",
    "            if op == 99: return\n",
    "            modes = list(map(int, str(first // 100)))\n",
    "            if op in [1,2,7,8]: param_count = 3\n",
    "            elif op in [5,6]: param_count = 2\n",
    "            elif op in [3,4,9]: param_count = 1\n",
    "            else:\n",
    "                print(\"Unknown opcode\", op)\n",
    "                return\n",
    "            while len(modes) < param_count: modes = [0] + modes\n",
    "            modes = modes[::-1]\n",
    "            if op == 3:\n",
    "                set_param(ip, modes, 1, self.inputs[0])\n",
    "                self.inputs = self.inputs[1:]\n",
    "            elif op == 4: yield get_param(ip, modes, 1)\n",
    "            elif op == 9: rel_base += get_param(ip, modes, 1)\n",
    "            elif op == 1: set_param(ip, modes, 3, get_param(ip, modes, 1) + get_param(ip, modes, 2))\n",
    "            elif op == 2: set_param(ip, modes, 3, get_param(ip, modes, 1) * get_param(ip, modes, 2))\n",
    "            elif op == 5:\n",
    "                if get_param(ip, modes, 1)!=0:\n",
    "                    ip = get_param(ip, modes, 2)\n",
    "                    continue\n",
    "            elif op == 6:\n",
    "                if get_param(ip, modes, 1)==0:\n",
    "                    ip = get_param(ip, modes, 2)\n",
    "                    continue\n",
    "            elif op == 7:\n",
    "                if get_param(ip, modes, 1) < get_param(ip, modes, 2): set_param(ip, modes, 3, 1)\n",
    "                else: set_param(ip, modes, 3, 0)\n",
    "            elif op == 8:\n",
    "                if get_param(ip, modes, 1) == get_param(ip, modes, 2): set_param(ip, modes, 3, 1)\n",
    "                else: set_param(ip, modes, 3, 0)\n",
    "            ip += 1 + param_count     \n",
    "    \n",
    "    def start(self):\n",
    "        return self.run()"
   ]
  },
  {
   "cell_type": "code",
   "execution_count": 69,
   "metadata": {},
   "outputs": [
    {
     "data": {
      "text/plain": [
       "[109, 1, 204, -1, 1001, 100, 1, 100, 1008, 100, 16, 101, 1006, 101, 0, 99]"
      ]
     },
     "execution_count": 69,
     "metadata": {},
     "output_type": "execute_result"
    }
   ],
   "source": [
    "m = machine([109,1,204,-1,1001,100,1,100,1008,100,16,101,1006,101,0,99], None).start()\n",
    "list(m)"
   ]
  },
  {
   "cell_type": "code",
   "execution_count": 70,
   "metadata": {},
   "outputs": [
    {
     "data": {
      "text/plain": [
       "[1219070632396864]"
      ]
     },
     "execution_count": 70,
     "metadata": {},
     "output_type": "execute_result"
    }
   ],
   "source": [
    "m = machine([1102,34915192,34915192,7,4,7,99,0], None).start()\n",
    "list(m)"
   ]
  },
  {
   "cell_type": "code",
   "execution_count": 71,
   "metadata": {},
   "outputs": [
    {
     "data": {
      "text/plain": [
       "[1125899906842624]"
      ]
     },
     "execution_count": 71,
     "metadata": {},
     "output_type": "execute_result"
    }
   ],
   "source": [
    "m = machine([104,1125899906842624,99], None).start()\n",
    "list(m)"
   ]
  },
  {
   "cell_type": "code",
   "execution_count": 73,
   "metadata": {},
   "outputs": [
    {
     "data": {
      "text/plain": [
       "[3429606717]"
      ]
     },
     "execution_count": 73,
     "metadata": {},
     "output_type": "execute_result"
    }
   ],
   "source": [
    "with open('/Users/felixpuetsch/Downloads/input9.txt', 'rt') as f:\n",
    "    prog = f.read()\n",
    "    prog = list(map(int, prog.strip().split(',')))\n",
    "m = machine(prog, 1).start()\n",
    "list(m)"
   ]
  },
  {
   "cell_type": "code",
   "execution_count": 76,
   "metadata": {},
   "outputs": [
    {
     "data": {
      "text/plain": [
       "[33679]"
      ]
     },
     "execution_count": 76,
     "metadata": {},
     "output_type": "execute_result"
    }
   ],
   "source": [
    "m = machine(prog, 2).start()\n",
    "list(m)"
   ]
  }
 ],
 "metadata": {
  "kernelspec": {
   "display_name": "Python 3",
   "language": "python",
   "name": "python3"
  },
  "language_info": {
   "codemirror_mode": {
    "name": "ipython",
    "version": 3
   },
   "file_extension": ".py",
   "mimetype": "text/x-python",
   "name": "python",
   "nbconvert_exporter": "python",
   "pygments_lexer": "ipython3",
   "version": "3.7.4"
  }
 },
 "nbformat": 4,
 "nbformat_minor": 2
}
