{
 "cells": [
  {
   "cell_type": "code",
   "execution_count": 107,
   "metadata": {},
   "outputs": [],
   "source": [
    "from tqdm import tqdm_notebook as tqdm\n",
    "from itertools import repeat\n",
    "from numba import jit, int32\n",
    "from numba.typed import List\n",
    "import numpy as np"
   ]
  },
  {
   "cell_type": "code",
   "execution_count": 63,
   "metadata": {},
   "outputs": [],
   "source": [
    "@jit(int32(int32, int32), nopython=True)\n",
    "def ggt(a,b):\n",
    "    a,b = abs(a), abs(b)\n",
    "    while b!=0:\n",
    "        a, b = b, a % b\n",
    "    return a\n",
    "\n",
    "@jit(int32(int32, int32), nopython=True)\n",
    "def kgv(a,b):\n",
    "    return a*b//ggt(a,b)"
   ]
  },
  {
   "cell_type": "code",
   "execution_count": 122,
   "metadata": {},
   "outputs": [
    {
     "data": {
      "text/plain": [
       "ListType[int64]([1, 2, 3, 4, 5, 6, 7, 8])"
      ]
     },
     "execution_count": 122,
     "metadata": {},
     "output_type": "execute_result"
    }
   ],
   "source": [
    "inp = List()\n",
    "for x in list(map(int, list('12345678'))):\n",
    "    inp.append(x)\n",
    "inp"
   ]
  },
  {
   "cell_type": "code",
   "execution_count": 123,
   "metadata": {},
   "outputs": [],
   "source": [
    "@jit(nopython=True)\n",
    "def process(inp, i, pat, period = -1):\n",
    "    new_pat = [0 for x in range(0)]\n",
    "    for e in pat: new_pat += [e for l in range(i+1)]\n",
    "    if period>0:\n",
    "        rep = kgv(period, 4*i)\n",
    "        #print(period, len(new_pat), rep)\n",
    "        return (process(inp, i, pat) * (len(inp) // rep)) % 10\n",
    "    #print(len(new_pat), new_pat)\n",
    "    res = 0\n",
    "    for j in range(len(inp)):\n",
    "        res += inp[j] * new_pat[(j+1) % len(new_pat)]\n",
    "        #print(i,j,inp[j], new_pat[(j+1) % len(new_pat)], res)\n",
    "    res = res % 10 if res>=0 else -res % 10\n",
    "    return res"
   ]
  },
  {
   "cell_type": "code",
   "execution_count": 127,
   "metadata": {},
   "outputs": [],
   "source": [
    "@jit(nopython=True)\n",
    "def step(inp, period=-1):\n",
    "    pat = List()\n",
    "    for x in [0, 1, 0, -1]: pat.append(x)\n",
    "    res = List()\n",
    "    for x in [process(inp, i, pat, period) for i in range(len(inp))]:\n",
    "        res.append(x)\n",
    "    return res"
   ]
  },
  {
   "cell_type": "code",
   "execution_count": 129,
   "metadata": {},
   "outputs": [
    {
     "data": {
      "text/plain": [
       "ListType[int64]([3, 4, 0, 4, 0, 4, 3, 8])"
      ]
     },
     "execution_count": 129,
     "metadata": {},
     "output_type": "execute_result"
    }
   ],
   "source": [
    "step(step(inp))"
   ]
  },
  {
   "cell_type": "code",
   "execution_count": 130,
   "metadata": {},
   "outputs": [],
   "source": [
    "s='59731816011884092945351508129673371014862103878684944826017645844741545300230138932831133873839512146713127268759974246245502075014905070039532876129205215417851534077861438833829150700128859789264910166202535524896960863759734991379392200570075995540154404564759515739872348617947354357737896622983395480822393561314056840468397927687908512181180566958267371679145705350771757054349846320639601111983284494477902984330803048219450650034662420834263425046219982608792077128250835515865313986075722145069152768623913680721193045475863879571787112159970381407518157406924221437152946039000886837781446203456224983154446561285113664381711600293030463013'\n",
    "inp = List()\n",
    "for x in list(map(int, list(s))):\n",
    "    inp.append(x)"
   ]
  },
  {
   "cell_type": "code",
   "execution_count": 131,
   "metadata": {},
   "outputs": [
    {
     "name": "stdout",
     "output_type": "stream",
     "text": [
      "2.73 s ± 72.1 ms per loop (mean ± std. dev. of 7 runs, 1 loop each)\n"
     ]
    }
   ],
   "source": [
    "%%timeit\n",
    "x = inp.copy()\n",
    "for n in range(100):\n",
    "    #print(n,x)\n",
    "    x = step(x)\n",
    "x[:8]"
   ]
  },
  {
   "cell_type": "code",
   "execution_count": 138,
   "metadata": {},
   "outputs": [],
   "source": [
    "s = '59731816011884092945351508129673371014862103878684944826017645844741545300230138932831133873839512146713127268759974246245502075014905070039532876129205215417851534077861438833829150700128859789264910166202535524896960863759734991379392200570075995540154404564759515739872348617947354357737896622983395480822393561314056840468397927687908512181180566958267371679145705350771757054349846320639601111983284494477902984330803048219450650034662420834263425046219982608792077128250835515865313986075722145069152768623913680721193045475863879571787112159970381407518157406924221437152946039000886837781446203456224983154446561285113664381711600293030463013'\n",
    "period = len(s)\n",
    "s = s * 10000\n",
    "inp = List()\n",
    "for x in list(map(int, list(s))):\n",
    "    inp.append(x)"
   ]
  },
  {
   "cell_type": "code",
   "execution_count": 139,
   "metadata": {},
   "outputs": [
    {
     "data": {
      "application/vnd.jupyter.widget-view+json": {
       "model_id": "ec2dfdd2163347b08cccfe88f5019c88",
       "version_major": 2,
       "version_minor": 0
      },
      "text/plain": [
       "HBox(children=(IntProgress(value=0), HTML(value='')))"
      ]
     },
     "metadata": {},
     "output_type": "display_data"
    },
    {
     "ename": "ZeroDivisionError",
     "evalue": "integer division by zero",
     "output_type": "error",
     "traceback": [
      "\u001b[0;31m---------------------------------------------------------------------------\u001b[0m",
      "\u001b[0;31mZeroDivisionError\u001b[0m                         Traceback (most recent call last)",
      "\u001b[0;32m<ipython-input-139-d55717f9f53b>\u001b[0m in \u001b[0;36m<module>\u001b[0;34m\u001b[0m\n\u001b[1;32m      1\u001b[0m \u001b[0mx\u001b[0m \u001b[0;34m=\u001b[0m \u001b[0minp\u001b[0m\u001b[0;34m.\u001b[0m\u001b[0mcopy\u001b[0m\u001b[0;34m(\u001b[0m\u001b[0;34m)\u001b[0m\u001b[0;34m\u001b[0m\u001b[0;34m\u001b[0m\u001b[0m\n\u001b[1;32m      2\u001b[0m \u001b[0;32mfor\u001b[0m \u001b[0mn\u001b[0m \u001b[0;32min\u001b[0m \u001b[0mtqdm\u001b[0m\u001b[0;34m(\u001b[0m\u001b[0mrange\u001b[0m\u001b[0;34m(\u001b[0m\u001b[0;36m100\u001b[0m\u001b[0;34m)\u001b[0m\u001b[0;34m)\u001b[0m\u001b[0;34m:\u001b[0m\u001b[0;34m\u001b[0m\u001b[0;34m\u001b[0m\u001b[0m\n\u001b[0;32m----> 3\u001b[0;31m     \u001b[0mx\u001b[0m \u001b[0;34m=\u001b[0m \u001b[0mstep\u001b[0m\u001b[0;34m(\u001b[0m\u001b[0mx\u001b[0m\u001b[0;34m,\u001b[0m \u001b[0mperiod\u001b[0m\u001b[0;34m)\u001b[0m\u001b[0;34m\u001b[0m\u001b[0;34m\u001b[0m\u001b[0m\n\u001b[0m\u001b[1;32m      4\u001b[0m \u001b[0moff\u001b[0m \u001b[0;34m=\u001b[0m \u001b[0mint\u001b[0m\u001b[0;34m(\u001b[0m\u001b[0;34m''\u001b[0m\u001b[0;34m.\u001b[0m\u001b[0mjoin\u001b[0m\u001b[0;34m(\u001b[0m\u001b[0mx\u001b[0m\u001b[0;34m[\u001b[0m\u001b[0;34m:\u001b[0m\u001b[0;36m7\u001b[0m\u001b[0;34m]\u001b[0m\u001b[0;34m)\u001b[0m\u001b[0;34m)\u001b[0m\u001b[0;34m\u001b[0m\u001b[0;34m\u001b[0m\u001b[0m\n\u001b[1;32m      5\u001b[0m \u001b[0mx\u001b[0m\u001b[0;34m[\u001b[0m\u001b[0moff\u001b[0m\u001b[0;34m:\u001b[0m\u001b[0moff\u001b[0m\u001b[0;34m+\u001b[0m\u001b[0;36m8\u001b[0m\u001b[0;34m]\u001b[0m\u001b[0;34m\u001b[0m\u001b[0;34m\u001b[0m\u001b[0m\n",
      "\u001b[0;31mZeroDivisionError\u001b[0m: integer division by zero"
     ]
    }
   ],
   "source": [
    "x = inp.copy()\n",
    "for n in tqdm(range(100)):\n",
    "    x = step(x, period)\n",
    "off = int(''.join(x[:7]))\n",
    "x[off:off+8]"
   ]
  },
  {
   "cell_type": "code",
   "execution_count": 137,
   "metadata": {},
   "outputs": [
    {
     "data": {
      "text/plain": [
       "ListType[int64]([5, 9, 7, 3, 1, 8, 1, 6, 0, 1, 1, 8, 8, 4, 0, 9, 2, 9, 4, 5, 3, 5, 1, 5, 0, 8, 1, 2, 9, 6, 7, 3, 3, 7, 1, 0, 1, 4, 8, 6, 2, 1, 0, 3, 8, 7, 8, 6, 8, 4, 9, 4, 4, 8, 2, 6, 0, 1, 7, 6, 4, 5, 8, 4, 4, 7, 4, 1, 5, 4, 5, 3, 0, 0, 2, 3, 0, 1, 3, 8, 9, 3, 2, 8, 3, 1, 1, 3, 3, 8, 7, 3, 8, 3, 9, 5, 1, 2, 1, 4, 6, 7, 1, 3, 1, 2, 7, 2, 6, 8, 7, 5, 9, 9, 7, 4, 2, 4, 6, 2, 4, 5, 5, 0, 2, 0, 7, 5, 0, 1, 4, 9, 0, 5, 0, 7, 0, 0, 3, 9, 5, 3, 2, 8, 7, 6, 1, 2, 9, 2, 0, 5, 2, 1, 5, 4, 1, 7, 8, 5, 1, 5, 3, 4, 0, 7, 7, 8, 6, 1, 4, 3, 8, 8, 3, 3, 8, 2, 9, 1, 5, 0, 7, 0, 0, 1, 2, 8, 8, 5, 9, 7, 8, 9, 2, 6, 4, 9, 1, 0, 1, 6, 6, 2, 0, 2, 5, 3, 5, 5, 2, 4, 8, 9, 6, 9, 6, 0, 8, 6, 3, 7, 5, 9, 7, 3, 4, 9, 9, 1, 3, 7, 9, 3, 9, 2, 2, 0, 0, 5, 7, 0, 0, 7, 5, 9, 9, 5, 5, 4, 0, 1, 5, 4, 4, 0, 4, 5, 6, 4, 7, 5, 9, 5, 1, 5, 7, 3, 9, 8, 7, 2, 3, 4, 8, 6, 1, 7, 9, 4, 7, 3, 5, 4, 3, 5, 7, 7, 3, 7, 8, 9, 6, 6, 2, 2, 9, 8, 3, 3, 9, 5, 4, 8, 0, 8, 2, 2, 3, 9, 3, 5, 6, 1, 3, 1, 4, 0, 5, 6, 8, 4, 0, 4, 6, 8, 3, 9, 7, 9, 2, 7, 6, 8, 7, 9, 0, 8, 5, 1, 2, 1, 8, 1, 1, 8, 0, 5, 6, 6, 9, 5, 8, 2, 6, 7, 3, 7, 1, 6, 7, 9, 1, 4, 5, 7, 0, 5, 3, 5, 0, 7, 7, 1, 7, 5, 7, 0, 5, 4, 3, 4, 9, 8, 4, 6, 3, 2, 0, 6, 3, 9, 6, 0, 1, 1, 1, 1, 9, 8, 3, 2, 8, 4, 4, 9, 4, 4, 7, 7, 9, 0, 2, 9, 8, 4, 3, 3, 0, 8, 0, 3, 0, 4, 8, 2, 1, 9, 4, 5, 0, 6, 5, 0, 0, 3, 4, 6, 6, 2, 4, 2, 0, 8, 3, 4, 2, 6, 3, 4, 2, 5, 0, 4, 6, 2, 1, 9, 9, 8, 2, 6, 0, 8, 7, 9, 2, 0, 7, 7, 1, 2, 8, 2, 5, 0, 8, 3, 5, 5, 1, 5, 8, 6, 5, 3, 1, 3, 9, 8, 6, 0, 7, 5, 7, 2, 2, 1, 4, 5, 0, 6, 9, 1, 5, 2, 7, 6, 8, 6, 2, 3, 9, 1, 3, 6, 8, 0, 7, 2, 1, 1, 9, 3, 0, 4, 5, 4, 7, 5, 8, 6, 3, 8, 7, 9, 5, 7, 1, 7, 8, 7, 1, 1, 2, 1, 5, 9, 9, 7, 0, 3, 8, 1, 4, 0, 7, 5, 1, 8, 1, 5, 7, 4, 0, 6, 9, 2, 4, 2, 2, 1, 4, 3, 7, 1, 5, 2, 9, 4, 6, 0, 3, 9, 0, 0, 0, 8, 8, 6, 8, 3, 7, 7, 8, 1, 4, 4, 6, 2, 0, 3, 4, 5, 6, 2, 2, 4, 9, 8, 3, 1, 5, 4, 4, 4, 6, 5, 6, 1, 2, 8, 5, 1, 1, 3, 6, 6, 4, 3, 8, 1, 7, 1, 1, 6, 0, 0, 2, 9, 3, 0, 3, 0, 4, 6, 3, 0, 1, 3])"
      ]
     },
     "execution_count": 137,
     "metadata": {},
     "output_type": "execute_result"
    }
   ],
   "source": [
    "x"
   ]
  }
 ],
 "metadata": {
  "kernelspec": {
   "display_name": "Python 3",
   "language": "python",
   "name": "python3"
  },
  "language_info": {
   "codemirror_mode": {
    "name": "ipython",
    "version": 3
   },
   "file_extension": ".py",
   "mimetype": "text/x-python",
   "name": "python",
   "nbconvert_exporter": "python",
   "pygments_lexer": "ipython3",
   "version": "3.7.6"
  }
 },
 "nbformat": 4,
 "nbformat_minor": 2
}
