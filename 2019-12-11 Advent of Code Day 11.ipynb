{
 "cells": [
  {
   "cell_type": "code",
   "execution_count": 2,
   "metadata": {},
   "outputs": [],
   "source": [
    "import pandas as pd"
   ]
  },
  {
   "cell_type": "code",
   "execution_count": 6,
   "metadata": {},
   "outputs": [],
   "source": [
    "class machine():\n",
    "    \n",
    "    def __init__(self, p, inp):\n",
    "        self.p = p + [0] * 1000\n",
    "        self.inputs = [inp]\n",
    "    \n",
    "    def add_input(self, inp):\n",
    "        self.inputs.append(inp)\n",
    "    \n",
    "    def run(self):\n",
    "        p = self.p\n",
    "        rel_base = 0\n",
    "        def get_param(ip, modes, n):\n",
    "            addr = p[ip+n]\n",
    "            if modes[n-1]==0: return p[addr]              # position mode\n",
    "            elif modes[n-1]==1: return addr               # immediate mode\n",
    "            elif modes[n-1]==2: return p[rel_base + addr] # relative mode\n",
    "            else:\n",
    "                print(\"Unknown relative mode for read\")\n",
    "                return\n",
    "        def set_param(ip, modes, n, val):\n",
    "            addr = p[ip+n]\n",
    "            if modes[n-1]==0: p[addr] = val\n",
    "            elif modes[n-1]==2: p[rel_base + addr] = val\n",
    "            else:\n",
    "                print(\"Unknown relative mode for write\")\n",
    "        ip = 0\n",
    "        while True:\n",
    "            first = p[ip]\n",
    "            op = first % 100\n",
    "            if op == 99: return\n",
    "            modes = list(map(int, str(first // 100)))\n",
    "            if op in [1,2,7,8]: param_count = 3\n",
    "            elif op in [5,6]: param_count = 2\n",
    "            elif op in [3,4,9]: param_count = 1\n",
    "            else:\n",
    "                print(\"Unknown opcode\", op)\n",
    "                return\n",
    "            while len(modes) < param_count: modes = [0] + modes\n",
    "            modes = modes[::-1]\n",
    "            if op == 3:\n",
    "                set_param(ip, modes, 1, self.inputs[0])\n",
    "                self.inputs = self.inputs[1:]\n",
    "            elif op == 4: yield get_param(ip, modes, 1)\n",
    "            elif op == 9: rel_base += get_param(ip, modes, 1)\n",
    "            elif op == 1: set_param(ip, modes, 3, get_param(ip, modes, 1) + get_param(ip, modes, 2))\n",
    "            elif op == 2: set_param(ip, modes, 3, get_param(ip, modes, 1) * get_param(ip, modes, 2))\n",
    "            elif op == 5:\n",
    "                if get_param(ip, modes, 1)!=0:\n",
    "                    ip = get_param(ip, modes, 2)\n",
    "                    continue\n",
    "            elif op == 6:\n",
    "                if get_param(ip, modes, 1)==0:\n",
    "                    ip = get_param(ip, modes, 2)\n",
    "                    continue\n",
    "            elif op == 7:\n",
    "                if get_param(ip, modes, 1) < get_param(ip, modes, 2): set_param(ip, modes, 3, 1)\n",
    "                else: set_param(ip, modes, 3, 0)\n",
    "            elif op == 8:\n",
    "                if get_param(ip, modes, 1) == get_param(ip, modes, 2): set_param(ip, modes, 3, 1)\n",
    "                else: set_param(ip, modes, 3, 0)\n",
    "            ip += 1 + param_count     \n",
    "    \n",
    "    def start(self):\n",
    "        return self.run()"
   ]
  },
  {
   "cell_type": "code",
   "execution_count": 2,
   "metadata": {},
   "outputs": [],
   "source": [
    "with open('/Users/felixpuetsch/Downloads/input11.txt', 'rt') as f:\n",
    "    prog = f.read()\n",
    "    prog = list(map(int, prog.strip().split(',')))"
   ]
  },
  {
   "cell_type": "code",
   "execution_count": 42,
   "metadata": {},
   "outputs": [],
   "source": [
    "from collections import defaultdict\n",
    "\n",
    "def run_robot():\n",
    "    path = defaultdict(int)\n",
    "    x,y = 0,0\n",
    "    dx,dy = 0,1\n",
    "    m = machine(prog, 1)\n",
    "    r = m.start()\n",
    "    while True:\n",
    "        try:\n",
    "            c, t = next(r), next(r)\n",
    "            #print(f\"x={x} y={y} color={c} turn={t}\")\n",
    "            path[(x,y)] = c\n",
    "            if t==0: dx, dy = -dy, dx \n",
    "            else: dx, dy = dy, -dx\n",
    "            x += dx\n",
    "            y += dy\n",
    "            m.add_input(path[(x,y)])\n",
    "        except StopIteration: break\n",
    "    return path"
   ]
  },
  {
   "cell_type": "code",
   "execution_count": 48,
   "metadata": {},
   "outputs": [],
   "source": [
    "path = run_robot()"
   ]
  },
  {
   "cell_type": "code",
   "execution_count": 51,
   "metadata": {},
   "outputs": [
    {
     "name": "stdout",
     "output_type": "stream",
     "text": [
      "   ▓▓ ▓  ▓  ▓▓  ▓▓▓  ▓▓▓   ▓▓   ▓▓  ▓  ▓          \n",
      "    ▓ ▓  ▓ ▓  ▓ ▓  ▓ ▓  ▓ ▓  ▓ ▓  ▓ ▓  ▓          \n",
      "    ▓ ▓▓▓▓ ▓  ▓ ▓  ▓ ▓▓▓  ▓    ▓    ▓  ▓          \n",
      "    ▓ ▓  ▓ ▓▓▓▓ ▓▓▓  ▓  ▓ ▓ ▓▓ ▓    ▓  ▓          \n",
      " ▓  ▓ ▓  ▓ ▓  ▓ ▓ ▓  ▓  ▓ ▓  ▓ ▓  ▓ ▓  ▓          \n",
      "  ▓▓  ▓  ▓ ▓  ▓ ▓  ▓ ▓▓▓   ▓▓▓  ▓▓   ▓▓           \n",
      "                                                  \n",
      "                                                  \n"
     ]
    }
   ],
   "source": [
    "for y in range(0,-8,-1):\n",
    "    s = \"\"\n",
    "    for x in range(50):\n",
    "        c = \"▓\" if path[(x,y)]==1 else \" \"\n",
    "        s+=c\n",
    "    print(s)"
   ]
  },
  {
   "cell_type": "code",
   "execution_count": 44,
   "metadata": {},
   "outputs": [
    {
     "data": {
      "text/plain": [
       "250"
      ]
     },
     "execution_count": 44,
     "metadata": {},
     "output_type": "execute_result"
    }
   ],
   "source": [
    "len(path.keys())"
   ]
  }
 ],
 "metadata": {
  "kernelspec": {
   "display_name": "Python 3",
   "language": "python",
   "name": "python3"
  },
  "language_info": {
   "codemirror_mode": {
    "name": "ipython",
    "version": 3
   },
   "file_extension": ".py",
   "mimetype": "text/x-python",
   "name": "python",
   "nbconvert_exporter": "python",
   "pygments_lexer": "ipython3",
   "version": "3.7.4"
  }
 },
 "nbformat": 4,
 "nbformat_minor": 2
}
